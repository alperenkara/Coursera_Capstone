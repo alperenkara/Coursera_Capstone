{
  "nbformat": 4,
  "nbformat_minor": 0,
  "metadata": {
    "colab": {
      "name": "Coursera_AppliedDataScienceCapstone_Week4",
      "provenance": [],
      "authorship_tag": "ABX9TyM6qoIeo2PRoabCbPRQYG+X",
      "include_colab_link": true
    },
    "kernelspec": {
      "name": "python3",
      "display_name": "Python 3"
    }
  },
  "cells": [
    {
      "cell_type": "markdown",
      "metadata": {
        "id": "view-in-github",
        "colab_type": "text"
      },
      "source": [
        "<a href=\"https://colab.research.google.com/github/alperenkara/Coursera_Capstone/blob/main/Alperen-Capstone%20Project%20-%20The%20Battle%20of%20Neighborhoods%20(Week%201).ipynb\" target=\"_parent\"><img src=\"https://colab.research.google.com/assets/colab-badge.svg\" alt=\"Open In Colab\"/></a>"
      ]
    },
    {
      "cell_type": "markdown",
      "metadata": {
        "id": "0-diqxI7QfhF"
      },
      "source": [
        "\n",
        "# Coursera Applied Data Science Capstone Week-IIII \n",
        "\n",
        "\n"
      ]
    },
    {
      "cell_type": "markdown",
      "metadata": {
        "id": "34f_hmt7QmMB"
      },
      "source": [
        "## Alperen Kara, 2020"
      ]
    },
    {
      "cell_type": "markdown",
      "metadata": {
        "id": "gwHohKs9bvSb"
      },
      "source": [
        "# Capstone Project - The Battle of Neighborhoods (Week 1)"
      ]
    },
    {
      "cell_type": "markdown",
      "metadata": {
        "id": "BrCupWTgQYm4"
      },
      "source": [
        "### For this week, you will required to submit the following:\n",
        "\n",
        "    \n",
        "\n",
        "*   A description of the problem and a discussion of the background. (15 marks)\n",
        "*   A description of the data and how it will be used to solve the problem. (15 marks)\n",
        "\n",
        "\n",
        "    \n",
        "\n"
      ]
    },
    {
      "cell_type": "markdown",
      "metadata": {
        "id": "WBXnF3nEb9xP"
      },
      "source": [
        "## 1. Introduction to the Business Problem\n",
        "---"
      ]
    },
    {
      "cell_type": "markdown",
      "metadata": {
        "id": "VsFhVEmtdYPg"
      },
      "source": [
        "\n",
        "\n",
        "\n",
        "\n",
        "\n",
        "The main aim of that Coursera capstone project was trying to find an optimal location for a new restaurant. The report demostrates methods for searching the best neighbourhood for opening a new restaurant; it will definetelty provide insight to people who are interested in creating a new bussiness in the Kraków, Poland. \n",
        "\n",
        "As there are plenty of restaurants in Kraków centre; the study aims to the candidate a restaurant location where is already not crowded with restaurants at the same time still in the touristic the Old Town area. After obtaining cluster information about the Kraków Old Town, distribution of the different restaurant types in each cluster has been analysed.\n",
        "\n"
      ]
    },
    {
      "cell_type": "markdown",
      "metadata": {
        "id": "XjCmBiJ1g5oY"
      },
      "source": [
        "## 2. Description of the Data\n",
        "---"
      ]
    },
    {
      "cell_type": "markdown",
      "metadata": {
        "id": "AElXYD19hJ9s"
      },
      "source": [
        "\n",
        "**Country/City:** Kraków/Poland\n",
        "\n",
        "**Goal:** Open a restaurant/fast food shop for students/tourists/locals on weekdays and Saturday.\n",
        "\n",
        " Following APIs have been used in the study:\n",
        "\n",
        "    Foursquare API: Find restaurant/venues\n",
        "    Google API: Reverse geolocalisation\n",
        "\n"
      ]
    },
    {
      "cell_type": "code",
      "metadata": {
        "id": "X-46G1rsgpK8"
      },
      "source": [
        ""
      ],
      "execution_count": null,
      "outputs": []
    }
  ]
}